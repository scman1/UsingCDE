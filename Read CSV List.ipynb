{
 "cells": [
  {
   "cell_type": "markdown",
   "metadata": {},
   "source": [
    "# Reading List of Documents from a CSV File\n",
    "\n",
    "This section contains a modified example based on the [reading documents page](http://chemdataextractor.org/docs/reading) of the Chem Data Extractor (CDE) documentation. \n",
    "\n",
    "A simple csv file containing the details of a series of documents is included (articles_list.csv).\n",
    "\n",
    "Several of the functions used in the cde_read_files.py example are re-used here, the main change is the way the list of files to process is acquired (two files for reading and writting csv files are included)."
   ]
  },
  {
   "cell_type": "code",
   "execution_count": 1,
   "metadata": {},
   "outputs": [],
   "source": [
    "# The line of code (LOC) below imports the document object from the CDE library \n",
    "from chemdataextractor import Document\n",
    "\n",
    "# import library for managing files\n",
    "from pathlib import Path\n",
    "import sys\n",
    "\n",
    "# A function for getting a list of files from the directory\n",
    "# This will be modified to get the list from a csv file\n",
    "def get_files_list (source_dir):\n",
    "    i_counter = 0\n",
    "    files_list = []\n",
    "    for filepath in sorted(source_dir.glob('*.pdf')):\n",
    "        i_counter += 1\n",
    "        files_list.append(filepath)\n",
    "    return files_list\n",
    "\n",
    "# A function for getting a list of unique occurrecnces \n",
    "# returns an array of element names and their occurrence count\n",
    "def get_uniques(cde_doc):\n",
    "    uniques={}\n",
    "    for chement in cde_doc.cems:\n",
    "        if not chement.text in uniques:\n",
    "            uniques[chement.text] = 1\n",
    "        else:\n",
    "            uniques[chement.text] += 1\n",
    "    return uniques\n",
    "\n",
    "# A function for getting the entity with most occurrecnces  \n",
    "# retuns two values: the entity name and the count\n",
    "def get_max(uniques):\n",
    "    max_val = 0\n",
    "    max_lbl = \"\"\n",
    "    for chement in uniques:\n",
    "        if uniques[chement] > max_val:\n",
    "            max_val = uniques[chement]\n",
    "            max_lbl = chement.replace('\\n',' ')\n",
    "    return max_lbl, max_val\n",
    "\n",
    "# A function which read a list of files from directory\n",
    "# and performs a basic analysis of the documents looking\n",
    "# for the most mentioned entity\n",
    "def cde_read_pdfs(pdf_path = \"./pdfs\"):\n",
    "    pdf_dir= Path(pdf_path)\n",
    "    files_list = get_files_list(pdf_dir)\n",
    "    print(files_list)\n",
    "    for a_file in files_list:\n",
    "        file_name = a_file.name\n",
    "        pdf_f = open(a_file, 'rb')\n",
    "        doc = Document.from_file(pdf_f)\n",
    "        uniques = get_uniques(doc)\n",
    "        max_lbl, max_val = get_max(uniques)       \n",
    "        print(file_name, \"Unique entities:\", len(uniques), \"Most common entity:\", max_lbl, max_val)"
   ]
  },
  {
   "cell_type": "markdown",
   "metadata": {},
   "source": [
    "After the functions are devlared, we can directly call the cde_read_pdfs function and see its results."
   ]
  },
  {
   "cell_type": "code",
   "execution_count": 2,
   "metadata": {},
   "outputs": [
    {
     "name": "stdout",
     "output_type": "stream",
     "text": [
      "[WindowsPath('pdfs/1-s2.0-S0926860X18305003-main.pdf'), WindowsPath('pdfs/acscatal.9b01820.pdf'), WindowsPath('pdfs/acscatal.9b04186.pdf'), WindowsPath('pdfs/c8cp05975f.pdf'), WindowsPath('pdfs/c8ob00066b.pdf'), WindowsPath('pdfs/cs5b01936_si_Proof.pdf'), WindowsPath('pdfs/cs5b01936MainProof.pdf'), WindowsPath('pdfs/Decarolis2018_Article_EffectOfParticleSizeAndSupport.pdf'), WindowsPath('pdfs/fchem-07-00182.pdf'), WindowsPath('pdfs/PhysRevB.66.224405.pdf')]\n",
      "1-s2.0-S0926860X18305003-main.pdf Unique entities: 108 Most common entity: DME 29\n",
      "acscatal.9b01820.pdf Unique entities: 148 Most common entity: methanol 40\n",
      "acscatal.9b04186.pdf Unique entities: 279 Most common entity: H 25\n",
      "c8cp05975f.pdf Unique entities: 56 Most common entity: hydrogen 54\n",
      "c8ob00066b.pdf Unique entities: 123 Most common entity: Arg 37\n",
      "cs5b01936_si_Proof.pdf Unique entities: 79 Most common entity: TiO2 27\n",
      "cs5b01936MainProof.pdf Unique entities: 88 Most common entity: ReOx 30\n",
      "Decarolis2018_Article_EffectOfParticleSizeAndSupport.pdf Unique entities: 101 Most common entity: Pd 108\n",
      "fchem-07-00182.pdf Unique entities: 350 Most common entity: hydrogen 33\n",
      "PhysRevB.66.224405.pdf Unique entities: 101 Most common entity: manganese 38\n"
     ]
    }
   ],
   "source": [
    "#To see the length of the elements list\n",
    "cde_read_pdfs(\"./pdfs\")"
   ]
  },
  {
   "cell_type": "markdown",
   "metadata": {},
   "source": [
    "## Modifications to read from csv\n",
    "\n",
    "First we create two functions to read and write from csv files"
   ]
  },
  {
   "cell_type": "code",
   "execution_count": 3,
   "metadata": {},
   "outputs": [],
   "source": [
    "# import library for managing csv files\n",
    "import csv\n",
    "\n",
    "# get the data from the csv_file, assuming first column is integer id\n",
    "def get_csv_data(input_file, id_field):\n",
    "    csv_data = {}\n",
    "    fieldnames=[]\n",
    "    with open(input_file, newline='') as csvfile:\n",
    "        reader = csv.DictReader(csvfile)\n",
    "        for row in reader:\n",
    "            if fieldnames==[]:\n",
    "                fieldnames=list(row.keys())\n",
    "            csv_data[int(row[id_field])]=row\n",
    "    return csv_data, fieldnames\n",
    "\n",
    "# writes data to the given file name\n",
    "def write_csv_data(values, filename):\n",
    "    fieldnames = []\n",
    "    for item in values.keys():\n",
    "        for key in values[item].keys():\n",
    "            if not key in fieldnames:\n",
    "                fieldnames.append(key)\n",
    "    #write back to a new csv file\n",
    "    with open(filename, 'w', newline='') as csvfile:\n",
    "        writer = csv.DictWriter(csvfile, fieldnames=fieldnames)\n",
    "        writer.writeheader()\n",
    "        for key in values.keys():\n",
    "            writer.writerow(values[key])"
   ]
  },
  {
   "cell_type": "markdown",
   "metadata": {},
   "source": [
    "The use of the function for reading articles from the csv file is shown below. The get_csv_data returns two values, a structure with the contents of the file and a simple list of the column headers."
   ]
  },
  {
   "cell_type": "code",
   "execution_count": 5,
   "metadata": {},
   "outputs": [
    {
     "name": "stdout",
     "output_type": "stream",
     "text": [
      "The first article in the list:an\n",
      "\t OrderedDict([('id', '1'), ('filename', 'pdfs/1-s2.0-S0926860X18305003-main.pdf'), ('title', 'Investigation of ZSM-5 catalysts for dimethylether conversion using inelastic neutron scattering'), ('doi', '10.1016/j.apcata.2018.10.010'), ('url', '')])\n",
      "The names of the columns in the file:\n",
      "\t ['id', 'filename', 'title', 'doi', 'url']\n"
     ]
    }
   ],
   "source": [
    "articles_list, column_names = get_csv_data(\"./articles_list.csv\", \"id\")\n",
    "print(\"The first article in the list:an\\n\\t\", articles_list[1])\n",
    "print(\"The names of the columns in the file:\\n\\t\", column_names)"
   ]
  },
  {
   "cell_type": "markdown",
   "metadata": {},
   "source": [
    "Modified version reading from the csv file"
   ]
  },
  {
   "cell_type": "code",
   "execution_count": 6,
   "metadata": {},
   "outputs": [],
   "source": [
    "# A function which read a list of files from a csv file\n",
    "# and performs a basic analysis of the documents looking\n",
    "# for the most mentioned entity\n",
    "# modified version of the one which reads from directory\n",
    "def cde_read_pdfs_csv(csv_name = \"./articles_list.csv\"):\n",
    "    articles_list, column_names = get_csv_data(csv_name, \"id\")\n",
    "    for a_file in articles_list:\n",
    "        file_name = articles_list[a_file]['filename']\n",
    "        file_title = articles_list[a_file]['title']\n",
    "        pdf_f = open(file_name, 'rb')\n",
    "        doc = Document.from_file(pdf_f)\n",
    "        uniques = get_uniques(doc)\n",
    "        max_lbl, max_val = get_max(uniques)       \n",
    "        print(file_title, \"Unique entities:\", len(uniques), \"Most common entity:\", max_lbl, max_val)"
   ]
  },
  {
   "cell_type": "code",
   "execution_count": 7,
   "metadata": {},
   "outputs": [
    {
     "name": "stdout",
     "output_type": "stream",
     "text": [
      "Investigation of ZSM-5 catalysts for dimethylether conversion using inelastic neutron scattering Unique entities: 108 Most common entity: DME 29\n",
      "Elementary Steps in the Formation of Hydrocarbons from Surface Methoxy Groups in HZSMâ€‘5 Seen by Synchrotron Infrared Microspectroscopy Unique entities: 148 Most common entity: methanol 40\n",
      "Machine Learning for Catalysis Informatics: Recent Applications and Prospects Unique entities: 279 Most common entity: H 25\n",
      "Hydrogen adsorption on transition metal carbides: a DFT study Unique entities: 56 Most common entity: hydrogen 54\n",
      "QM/MM simulations identify the determinants of catalytic activity differences between type II dehydroquinase enzymes Unique entities: 123 Most common entity: Arg 37\n",
      "Supporting Information ReOx/TiO2 â€“ a recyclable solid catalyst for deoxydehydration Unique entities: 79 Most common entity: TiO2 27\n",
      "ReOx/TiO2: A Recyclable Solid Catalyst for Deoxydehydration Unique entities: 88 Most common entity: ReOx 30\n",
      "Effect of Particle Size and Support Type on Pd Catalysts for 1,3-Butadiene Hydrogenation Unique entities: 101 Most common entity: Pd 108\n",
      "Advances in Sustainable Catalysis: A Computational Perspective Unique entities: 350 Most common entity: hydrogen 33\n",
      "Multiedge refinement of extended x-ray-absorption fine structure of manganese zinc ferrite nanoparticles Unique entities: 101 Most common entity: manganese 38\n"
     ]
    }
   ],
   "source": [
    "cde_read_pdfs_csv(\"./articles_list.csv\")"
   ]
  },
  {
   "cell_type": "code",
   "execution_count": null,
   "metadata": {},
   "outputs": [],
   "source": []
  }
 ],
 "metadata": {
  "kernelspec": {
   "display_name": "Python 3",
   "language": "python",
   "name": "python3"
  },
  "language_info": {
   "codemirror_mode": {
    "name": "ipython",
    "version": 3
   },
   "file_extension": ".py",
   "mimetype": "text/x-python",
   "name": "python",
   "nbconvert_exporter": "python",
   "pygments_lexer": "ipython3",
   "version": "3.6.13"
  }
 },
 "nbformat": 4,
 "nbformat_minor": 4
}
