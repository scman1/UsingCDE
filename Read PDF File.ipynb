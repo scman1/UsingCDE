{
 "cells": [
  {
   "cell_type": "markdown",
   "metadata": {},
   "source": [
    "# Reading PDF Documents\n",
    "\n",
    "This section contains a modified example shown based on the [reading documents page](http://chemdataextractor.org/docs/reading) of the Chem Data Extractor (CDE) documentation. The file used in this example was obtained from:\n",
    "[Silveri, F., Quesne, M. G., Roldan, A., De Leeuw, N. H., & Catlow, C. R. A. (2019). Hydrogen adsorption on transition metal carbides: a DFT study. Physical Chemistry Chemical Physics, 21(10), 5335-5343](https://pubs.rsc.org/ko/content/articlehtml/2019/cp/c8cp05975f). \n"
   ]
  },
  {
   "cell_type": "code",
   "execution_count": 1,
   "metadata": {},
   "outputs": [],
   "source": [
    "# The line of code (LOC) below imports the document object from the CDE library \n",
    "from chemdataextractor import Document\n",
    "\n",
    "# define the input file (put it in the same directory as the source files or add \n",
    "# the complete path to the file, e.g.\n",
    "# 'c:/users/user1/documents/file.pdf')\n",
    "\n",
    "# The file used in this example was obtained from:\n",
    "# Silveri, F., Quesne, M. G., Roldan, A., De Leeuw, N. H., & Catlow, C. R. A. (2019). \n",
    "# Hydrogen adsorption on transition metal carbides: a DFT study. Physical Chemistry \n",
    "# Chemical Physics, 21(10), 5335-5343.\n",
    "filepath = \"pdfs/c8cp05975f.pdf\"\n",
    "\n",
    "# open de file in read binary mode\n",
    "f = open(filepath, 'rb')\n",
    "\n",
    "# create a document object from the file\n",
    "doc = Document.from_file(f)"
   ]
  },
  {
   "cell_type": "markdown",
   "metadata": {},
   "source": [
    "The document is made up of the paragraphs, each paragraph is an element (some are short because they include the title only).\n",
    "\n",
    "The elements of a document are part of a list. So list operations can be used to explore the list. "
   ]
  },
  {
   "cell_type": "code",
   "execution_count": 2,
   "metadata": {},
   "outputs": [
    {
     "data": {
      "text/plain": [
       "312"
      ]
     },
     "execution_count": 2,
     "metadata": {},
     "output_type": "execute_result"
    }
   ],
   "source": [
    "#To see the length of the elements list\n",
    "len(doc.elements)"
   ]
  },
  {
   "cell_type": "markdown",
   "metadata": {},
   "source": [
    "A paragraph in the document can be accessed using an index, as follows."
   ]
  },
  {
   "cell_type": "code",
   "execution_count": 3,
   "metadata": {},
   "outputs": [
    {
     "data": {
      "text/html": [
       "<p class=\"cde-paragraph\">Transition metal carbides are a class of materials widely known for both their interesting physical\n",
       "properties and catalytic activity. In this work, we have used plane-wave DFT methods to study the</p>"
      ],
      "text/plain": [
       "Paragraph(id=None, references=[], text='Transition metal carbides are a class of materials widely known for both their interesting physical\\nproperties and catalytic activity. In this work, we have used plane-wave DFT methods to study the')"
      ]
     },
     "execution_count": 3,
     "metadata": {},
     "output_type": "execute_result"
    }
   ],
   "source": [
    "# access an element on the list\n",
    "para = doc.elements[14]\n",
    "para"
   ]
  },
  {
   "cell_type": "markdown",
   "metadata": {},
   "source": [
    "Each element can be further explored as it is divided in sentences and tokens (not words because numbers, symbols, and punctuation characters are also considered tokens)"
   ]
  },
  {
   "cell_type": "code",
   "execution_count": 4,
   "metadata": {},
   "outputs": [
    {
     "name": "stdout",
     "output_type": "stream",
     "text": [
      "Transition metal carbides are a class of materials widely known for both their interesting physical\n",
      "properties and catalytic activity. In this work, we have used plane-wave DFT methods to study the\n",
      "Sentences: 2\n",
      "Tokens: [[Token('Transition', 0, 10), Token('metal', 11, 16), Token('carbides', 17, 25), Token('are', 26, 29), Token('a', 30, 31), Token('class', 32, 37), Token('of', 38, 40), Token('materials', 41, 50), Token('widely', 51, 57), Token('known', 58, 63), Token('for', 64, 67), Token('both', 68, 72), Token('their', 73, 78), Token('interesting', 79, 90), Token('physical', 91, 99), Token('properties', 100, 110), Token('and', 111, 114), Token('catalytic', 115, 124), Token('activity', 125, 133), Token('.', 133, 134)], [Token('In', 135, 137), Token('this', 138, 142), Token('work', 143, 147), Token(',', 147, 148), Token('we', 149, 151), Token('have', 152, 156), Token('used', 157, 161), Token('plane', 162, 167), Token('-', 167, 168), Token('wave', 168, 172), Token('DFT', 173, 176), Token('methods', 177, 184), Token('to', 185, 187), Token('study', 188, 193), Token('the', 194, 197)]]\n",
      "Tokens: 2\n",
      "Tokens: 20\n"
     ]
    }
   ],
   "source": [
    "print(para)\n",
    "print(\"Sentences:\", len(para.sentences))\n",
    "print(\"Tokens:\", para.tokens)\n",
    "print(\"Tokens:\", len(para.tokens))\n",
    "print(\"Tokens:\", len(para.tokens[0]))"
   ]
  },
  {
   "cell_type": "markdown",
   "metadata": {},
   "source": [
    "CDE also creates a special list of chemical entities (elements, compounds, types, etc.). These can be accessed as the cems list. The numbers next to each entity name indicate the position of the element in the text (start and end character)"
   ]
  },
  {
   "cell_type": "code",
   "execution_count": 5,
   "metadata": {},
   "outputs": [
    {
     "data": {
      "text/plain": [
       "[Span('(111)-C', 92, 99),\n",
       " Span('H', 303, 304),\n",
       " Span('hydrogen', 113, 121),\n",
       " Span('hydrogen', 328, 336),\n",
       " Span('TMCs', 66, 70),\n",
       " Span('hydrogen', 1620, 1628),\n",
       " Span('hydrogen', 68, 76),\n",
       " Span('hydrogen', 84, 92),\n",
       " Span('transition metals', 237, 254),\n",
       " Span('ZrC', 0, 3),\n",
       " Span('TiC(011)', 407, 415),\n",
       " Span('hydrogen', 458, 466),\n",
       " Span('hydrogen', 682, 690),\n",
       " Span('hydrogen', 1258, 1266),\n",
       " Span('carbon', 10, 16),\n",
       " Span('transition metal carbides', 178, 203),\n",
       " Span('O', 32, 33),\n",
       " Span('Ti', 631, 633),\n",
       " Span('hydrogen', 815, 823),\n",
       " Span('hydrogens', 414, 423),\n",
       " Span('hydrogen', 111, 119),\n",
       " Span('H', 14, 15),\n",
       " Span('hydrogen', 47, 55),\n",
       " Span('carbides', 129, 137),\n",
       " Span('carbon', 219, 225),\n",
       " Span('ZrC', 174, 177),\n",
       " Span('hydrogen', 149, 157),\n",
       " Span('TiC', 30, 33),\n",
       " Span('transition metals', 481, 498),\n",
       " Span('p\\np0', 0, 4),\n",
       " Span('TiC', 1585, 1588),\n",
       " Span('carbon', 777, 783),\n",
       " Span('Hydrogen', 36, 44),\n",
       " Span('nH', 12, 14),\n",
       " Span('H2', 111, 113),\n",
       " Span('hydrogen', 901, 909),\n",
       " Span('carbon', 222, 228),\n",
       " Span('Hydrogen adsorption', 0, 19),\n",
       " Span('hydrogen', 230, 238),\n",
       " Span('hydrogen', 1433, 1441),\n",
       " Span('hydrogens', 893, 902),\n",
       " Span('TiC', 233, 236),\n",
       " Span('TiC', 489, 492),\n",
       " Span('TiC', 185, 188),\n",
       " Span('Li', 170, 172),\n",
       " Span('TiC', 162, 165),\n",
       " Span('1\\n4\\n1\\n2\\n1\\n2', 0, 11),\n",
       " Span('Eads ¼', 0, 6),\n",
       " Span('VC', 98, 100),\n",
       " Span('ZrC', 1597, 1600),\n",
       " Span('hydrogen', 604, 612),\n",
       " Span('hydrogens', 1340, 1349),\n",
       " Span('ISSN 1463-9076', 0, 14),\n",
       " Span('hydrogen', 587, 595),\n",
       " Span('hydrogens', 41, 50),\n",
       " Span('carbide', 435, 442),\n",
       " Span('H', 90, 91),\n",
       " Span('Fslab\\ne', 0, 7),\n",
       " Span('H2', 676, 678),\n",
       " Span('hydrogen', 49, 57),\n",
       " Span('hydrogen', 1155, 1163),\n",
       " Span('ZrC', 1209, 1212),\n",
       " Span('ZrC', 697, 700),\n",
       " Span('carbon', 673, 679),\n",
       " Span('2\\n4\\n8\\n16', 0, 8),\n",
       " Span('hydrogen', 112, 120),\n",
       " Span('1\\n8\\n1\\n4\\n1\\n2\\n1', 0, 13),\n",
       " Span('n\\nA', 0, 3),\n",
       " Span('TiC(001)', 920, 928),\n",
       " Span('VC', 16, 18),\n",
       " Span('Ti', 719, 721),\n",
       " Span('VC', 0, 2),\n",
       " Span('TMCs', 40, 44),\n",
       " Span('H2', 187, 189),\n",
       " Span('H2', 123, 125),\n",
       " Span('NbC', 350, 353),\n",
       " Span('carbide', 344, 351),\n",
       " Span('carbon', 430, 436),\n",
       " Span('N', 28, 29),\n",
       " Span('H2', 17, 19),\n",
       " Span('H2', 221, 223),\n",
       " Span('H2', 49, 51),\n",
       " Span('hydrogens', 687, 696),\n",
       " Span('Li', 60, 62),\n",
       " Span('carbon', 344, 350),\n",
       " Span('H', 829, 830),\n",
       " Span('carbon', 128, 134),\n",
       " Span('ZrC(001)', 888, 896),\n",
       " Span('(111)-M', 110, 117),\n",
       " Span('Titanium', 210, 218),\n",
       " Span('TiC', 0, 3),\n",
       " Span('H2', 532, 534),\n",
       " Span('VC', 52, 54),\n",
       " Span('ZrC', 102, 105),\n",
       " Span('ZrC', 38, 41),\n",
       " Span('hydrogen', 125, 133),\n",
       " Span('TMCs', 345, 349),\n",
       " Span('hydrogen', 765, 773),\n",
       " Span('platinum', 370, 378),\n",
       " Span('H', 176, 177),\n",
       " Span('H', 656, 657),\n",
       " Span('C–H', 673, 676),\n",
       " Span('hydrogen', 93, 101),\n",
       " Span('hydrogen', 317, 325),\n",
       " Span('hydrogen', 41, 49),\n",
       " Span('transition metal carbides', 76, 101),\n",
       " Span('TiC', 495, 498),\n",
       " Span('ZrC', 112, 115),\n",
       " Span('TMCs', 644, 648),\n",
       " Span('ZrC', 167, 170),\n",
       " Span('ZrC', 7, 10),\n",
       " Span('Transition Metal Carbides', 12, 37),\n",
       " Span('Eslab', 6, 11),\n",
       " Span('transition metal carbides', 23, 48),\n",
       " Span('H', 157, 158),\n",
       " Span('ZrC(111)-M', 508, 518),\n",
       " Span('carbon', 461, 467),\n",
       " Span('S', 118, 119),\n",
       " Span('Li', 30, 32),\n",
       " Span('S', 0, 1),\n",
       " Span('hydrogen', 339, 347),\n",
       " Span('hydrogen', 135, 143),\n",
       " Span('carbide', 396, 403),\n",
       " Span('hydrogen', 7, 15),\n",
       " Span('transition metal carbides', 971, 996),\n",
       " Span('hydrogen', 232, 240),\n",
       " Span('ZrC(111)-M', 420, 430),\n",
       " Span('ZrC', 342, 345),\n",
       " Span('hydrogen', 62, 70),\n",
       " Span('TMCs', 27, 31),\n",
       " Span('hydrogen', 48, 56),\n",
       " Span('hydrogen', 272, 280),\n",
       " Span('CO2', 926, 929),\n",
       " Span('carbon', 171, 177),\n",
       " Span('hydrogens', 370, 379),\n",
       " Span('carbides', 57, 65),\n",
       " Span('CO2', 108, 111),\n",
       " Span('hydrogen', 266, 274),\n",
       " Span('hydrogen', 106, 114),\n",
       " Span('hydro-carbon', 248, 260),\n",
       " Span('transition metal carbide', 36, 60),\n",
       " Span('carbon', 366, 372),\n",
       " Span('H2', 909, 911),\n",
       " Span('methane', 234, 241),\n",
       " Span('hydrogen', 137, 145),\n",
       " Span('TiC', 263, 266),\n",
       " Span('carbon', 388, 394),\n",
       " Span('EslabþnH', 8, 16),\n",
       " Span('VC(001)', 1035, 1042),\n",
       " Span('H2', 899, 901),\n",
       " Span('TiC', 852, 855),\n",
       " Span('hydrogen', 355, 363),\n",
       " Span('hydrogen', 803, 811),\n",
       " Span('carbon', 193, 199),\n",
       " Span('hydrogen', 89, 97),\n",
       " Span('NbC', 0, 3),\n",
       " Span('Pt', 486, 488),\n",
       " Span('VC', 108, 110),\n",
       " Span('carbon', 15, 21),\n",
       " Span('Transition metal carbides', 0, 25),\n",
       " Span('ZrC', 56, 59),\n",
       " Span('carbon', 71, 77),\n",
       " Span('1\\nn', 0, 3),\n",
       " Span('carbon', 87, 93),\n",
       " Span('hydrogen', 534, 542),\n",
       " Span('hydrogen', 489, 497),\n",
       " Span('hydrogen', 173, 181),\n",
       " Span('hydrogen', 45, 53),\n",
       " Span('Ti', 635, 637),\n",
       " Span('TiC', 11, 14),\n",
       " Span('TiC', 171, 174),\n",
       " Span('H', 594, 595),\n",
       " Span('CO2', 441, 444),\n",
       " Span('TiC', 1204, 1207),\n",
       " Span('hydrogen', 332, 340),\n",
       " Span('TiC', 93, 96),\n",
       " Span('carbon', 570, 576),\n",
       " Span('CO2', 757, 760),\n",
       " Span('Li', 102, 104),\n",
       " Span('nH', 0, 2),\n",
       " Span('hydrogens', 140, 149),\n",
       " Span('hydrogen', 1183, 1191),\n",
       " Span('hydrogen', 164, 172),\n",
       " Span('carbon', 252, 258),\n",
       " Span('hydrogen', 496, 504),\n",
       " Span('hydrogen', 224, 232),\n",
       " Span('VC', 1590, 1592),\n",
       " Span('carbon', 111, 117),\n",
       " Span('H2', 322, 324),\n",
       " Span('Pt', 610, 612),\n",
       " Span('H', 54, 55),\n",
       " Span('ZrC', 20, 23),\n",
       " Span('carbide', 126, 133),\n",
       " Span('hydrogen', 376, 384),\n",
       " Span('hydrogen', 440, 448),\n",
       " Span('hydrogens', 384, 393),\n",
       " Span('transition metal\\ncarbide', 50, 74),\n",
       " Span('CO2', 288, 291),\n",
       " Span('H2O', 330, 333),\n",
       " Span('TMCs', 205, 209),\n",
       " Span('hydrocarbons', 192, 204),\n",
       " Span('carbon', 558, 564),\n",
       " Span('Nitrides', 42, 50),\n",
       " Span('hydrogen', 13, 21),\n",
       " Span('hydrogen', 77, 85),\n",
       " Span('C–H', 907, 910),\n",
       " Span('TiC', 103, 106),\n",
       " Span('carbides', 65, 73),\n",
       " Span('13 J. Ha¨glund', 59, 73),\n",
       " Span('hydrogen', 66, 74),\n",
       " Span('hydrogen', 34, 42),\n",
       " Span('carbides', 540, 548),\n",
       " Span('carbon', 342, 348),\n",
       " Span('carbides', 34, 42),\n",
       " Span('hydrogens', 269, 278),\n",
       " Span('TiC', 520, 523),\n",
       " Span('H2', 468, 470),\n",
       " Span('TiC', 47, 50),\n",
       " Span('Hydrogen', 0, 8),\n",
       " Span('(111)-C', 56, 63),\n",
       " Span('SilveriF', 96, 104),\n",
       " Span('H', 520, 521),\n",
       " Span('H', 56, 57),\n",
       " Span('TiC', 309, 312),\n",
       " Span('C–H', 313, 316),\n",
       " Span('TiC', 885, 888),\n",
       " Span('ZrC', 893, 896),\n",
       " Span('transition metal carbides', 59, 84),\n",
       " Span('TMCs', 20, 24),\n",
       " Span('hydrogen', 237, 245),\n",
       " Span('carbide', 580, 587)]"
      ]
     },
     "execution_count": 5,
     "metadata": {},
     "output_type": "execute_result"
    }
   ],
   "source": [
    "doc.cems"
   ]
  },
  {
   "cell_type": "markdown",
   "metadata": {},
   "source": [
    "The cems list contains all the occurrences of chemical entities, so there are repetitions. CDE provides the serialize  operation for summarising all entities, joining together abreviations, and capitalised or uncapitalised occurrences."
   ]
  },
  {
   "cell_type": "code",
   "execution_count": 6,
   "metadata": {},
   "outputs": [
    {
     "data": {
      "text/plain": [
       "54"
      ]
     },
     "execution_count": 6,
     "metadata": {},
     "output_type": "execute_result"
    }
   ],
   "source": [
    "serialised=doc.records.serialize()\n",
    "len(serialised)"
   ]
  },
  {
   "cell_type": "code",
   "execution_count": 7,
   "metadata": {},
   "outputs": [
    {
     "data": {
      "text/plain": [
       "[{'names': ['ISSN 1463-9076']},\n",
       " {'names': ['H2O']},\n",
       " {'names': ['Pt']},\n",
       " {'labels': ['H2'], 'roles': ['product']},\n",
       " {'names': ['transition metals']},\n",
       " {'names': ['SilveriF']},\n",
       " {'names': ['hydrocarbons']},\n",
       " {'names': ['methane']},\n",
       " {'names': ['platinum']},\n",
       " {'names': ['TiC, ZrC']},\n",
       " {'names': ['carbon-']},\n",
       " {'names': ['Eads ¼']},\n",
       " {'names': ['EslabþnH']},\n",
       " {'names': ['Eslab+nH']},\n",
       " {'names': ['Fslab e']},\n",
       " {'names': ['n A']},\n",
       " {'names': ['p p0']},\n",
       " {'names': ['Hydrogen adsorption']},\n",
       " {'names': ['Titanium']},\n",
       " {'names': ['hydro-carbon']},\n",
       " {'names': ['4 1 2 1 2']},\n",
       " {'names': ['ZrC(001)']},\n",
       " {'names': ['TiC(001)']},\n",
       " {'names': ['VC(001)']},\n",
       " {'names': ['TiC(011)']},\n",
       " {'names': ['(111)-M']},\n",
       " {'names': ['J. Ha¨glund']},\n",
       " {'names': ['O']},\n",
       " {'names': ['Nitrides']},\n",
       " {'names': ['n', 'N']},\n",
       " {'names': ['Ti']},\n",
       " {'names': ['C–H']},\n",
       " {'names': ['(111)-C']},\n",
       " {'names': ['ZrC(111)-M']},\n",
       " {'names': ['nH']},\n",
       " {'names': ['8 1 4 1 2 1']},\n",
       " {'names': ['TiC, VC']},\n",
       " {'names': ['S']},\n",
       " {'names': ['CO2']},\n",
       " {'names': ['4 8 16']},\n",
       " {'names': ['NbC']},\n",
       " {'names': ['carbides']},\n",
       " {'names': ['carbide']},\n",
       " {'names': ['transition metal carbide']},\n",
       " {'names': ['VC']},\n",
       " {'names': ['Li']},\n",
       " {'names': ['H2'], 'roles': ['product']},\n",
       " {'names': ['hydrogens']},\n",
       " {'names': ['H']},\n",
       " {'names': ['transition metal carbides',\n",
       "   'TMCs',\n",
       "   'Transition Metal Carbides',\n",
       "   'Transition metal carbides']},\n",
       " {'names': ['carbon']},\n",
       " {'names': ['TiC']},\n",
       " {'names': ['ZrC']},\n",
       " {'names': ['hydrogen', 'Hydrogen']}]"
      ]
     },
     "execution_count": 7,
     "metadata": {},
     "output_type": "execute_result"
    }
   ],
   "source": [
    "serialised"
   ]
  },
  {
   "cell_type": "code",
   "execution_count": null,
   "metadata": {},
   "outputs": [],
   "source": []
  }
 ],
 "metadata": {
  "kernelspec": {
   "display_name": "Python 3",
   "language": "python",
   "name": "python3"
  },
  "language_info": {
   "codemirror_mode": {
    "name": "ipython",
    "version": 3
   },
   "file_extension": ".py",
   "mimetype": "text/x-python",
   "name": "python",
   "nbconvert_exporter": "python",
   "pygments_lexer": "ipython3",
   "version": "3.6.13"
  }
 },
 "nbformat": 4,
 "nbformat_minor": 4
}
